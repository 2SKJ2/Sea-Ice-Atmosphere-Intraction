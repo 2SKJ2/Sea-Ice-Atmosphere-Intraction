{
 "cells": [
  {
   "cell_type": "code",
   "execution_count": 1,
   "id": "91264d00",
   "metadata": {},
   "outputs": [
    {
     "name": "stderr",
     "output_type": "stream",
     "text": [
      "┌ Warning: The NVIDIA driver on this system only supports up to CUDA 11.0.0.\n",
      "│ For performance reasons, it is recommended to upgrade to a driver that supports CUDA 11.2 or higher.\n",
      "└ @ CUDA C:\\Users\\shiva\\.julia\\packages\\CUDA\\DL5Zo\\src\\initialization.jl:42\n"
     ]
    }
   ],
   "source": [
    "using Oceananigans"
   ]
  },
  {
   "cell_type": "code",
   "execution_count": 2,
   "id": "1e8ff55b",
   "metadata": {},
   "outputs": [
    {
     "name": "stderr",
     "output_type": "stream",
     "text": [
      "┌ Warning: Inflating model grid halo size to (3, 3, 0) and recreating grid. The model grid will be different from the input grid. To avoid this warning, pass halo=(3, 3, 0) when constructing the grid.\n",
      "└ @ Oceananigans.Models.NonhydrostaticModels C:\\Users\\shiva\\.julia\\packages\\Oceananigans\\KUskb\\src\\Models\\NonhydrostaticModels\\nonhydrostatic_model.jl:130\n"
     ]
    },
    {
     "data": {
      "text/plain": [
       "NonhydrostaticModel{CPU, Float64}(time = 0 seconds, iteration = 0) \n",
       "├── grid: RectilinearGrid{Float64, Periodic, Periodic, Flat}(Nx=1000, Ny=500, Nz=1)\n",
       "├── tracers: ()\n",
       "├── closure: IsotropicDiffusivity{Oceananigans.TurbulenceClosures.ExplicitTimeDiscretization, Float64, NamedTuple{(), Tuple{}}}\n",
       "├── buoyancy: Nothing\n",
       "└── coriolis: Nothing"
      ]
     },
     "execution_count": 2,
     "metadata": {},
     "output_type": "execute_result"
    }
   ],
   "source": [
    "grid = RectilinearGrid(size=(1000,500),extent=(2π,2π),topology=(Periodic,Periodic,Flat))\n",
    "\n",
    "model = NonhydrostaticModel(timestepper = :RungeKutta3,\n",
    "                              advection = UpwindBiasedFifthOrder(),\n",
    "                                   grid = grid,\n",
    "                               buoyancy = nothing,\n",
    "                                tracers = nothing,\n",
    "                                closure = IsotropicDiffusivity(ν=1e-9)\n",
    "                           )"
   ]
  },
  {
   "cell_type": "code",
   "execution_count": 3,
   "id": "7b0c85db",
   "metadata": {},
   "outputs": [],
   "source": [
    "using Statistics\n",
    "\n",
    "u,v,w=model.velocities\n",
    "ui=rand(size(u)...)\n",
    "vi=rand(size(v)...)\n",
    "ui .-= mean(ui)\n",
    "vi .-= mean(vi)\n",
    "\n",
    "set!(model, u=ui, v=vi)"
   ]
  },
  {
   "cell_type": "code",
   "execution_count": 4,
   "id": "b37993fe",
   "metadata": {},
   "outputs": [
    {
     "data": {
      "text/plain": [
       "(u = Field located at (Face, Center, Center)\n",
       "├── data: OffsetArrays.OffsetArray{Float64, 3, Array{Float64, 3}}, size: (1000, 500, 1)\n",
       "├── grid: RectilinearGrid{Float64, Periodic, Periodic, Flat}(Nx=1000, Ny=500, Nz=1)\n",
       "└── boundary conditions: west=Periodic, east=Periodic, south=Periodic, north=Periodic, bottom=Nothing, top=Nothing, immersed=ZeroFlux, v = Field located at (Center, Face, Center)\n",
       "├── data: OffsetArrays.OffsetArray{Float64, 3, Array{Float64, 3}}, size: (1000, 500, 1)\n",
       "├── grid: RectilinearGrid{Float64, Periodic, Periodic, Flat}(Nx=1000, Ny=500, Nz=1)\n",
       "└── boundary conditions: west=Periodic, east=Periodic, south=Periodic, north=Periodic, bottom=Nothing, top=Nothing, immersed=ZeroFlux, w = Field located at (Center, Center, Face)\n",
       "├── data: OffsetArrays.OffsetArray{Float64, 3, Array{Float64, 3}}, size: (1000, 500, 1)\n",
       "├── grid: RectilinearGrid{Float64, Periodic, Periodic, Flat}(Nx=1000, Ny=500, Nz=1)\n",
       "└── boundary conditions: west=Periodic, east=Periodic, south=Periodic, north=Periodic, bottom=Nothing, top=Nothing, immersed=ZeroFlux)"
      ]
     },
     "execution_count": 4,
     "metadata": {},
     "output_type": "execute_result"
    }
   ],
   "source": [
    "u,v,w=model.velocities"
   ]
  },
  {
   "cell_type": "code",
   "execution_count": 5,
   "id": "3908bf0a",
   "metadata": {},
   "outputs": [
    {
     "data": {
      "text/plain": [
       "Field located at (Face, Face, Center) computed from BinaryOperation at (Face, Face, Center)\n",
       "├── data: OffsetArrays.OffsetArray{Float64, 3, Array{Float64, 3}}, size: (1000, 500, 1)\n",
       "├── grid: RectilinearGrid{Float64, Periodic, Periodic, Flat}(Nx=1000, Ny=500, Nz=1)\n",
       "├── operand: BinaryOperation at (Face, Face, Center)\n",
       "└── status: time=0.0"
      ]
     },
     "execution_count": 5,
     "metadata": {},
     "output_type": "execute_result"
    }
   ],
   "source": [
    "ω = ∂x(v) - ∂y(u)\n",
    "\n",
    "ω_field = Field(ω)"
   ]
  },
  {
   "cell_type": "code",
   "execution_count": 6,
   "id": "cc820c21",
   "metadata": {},
   "outputs": [
    {
     "data": {
      "text/plain": [
       "Field located at (Face, Center, Center) computed from UnaryOperation at (Face, Center, Center)\n",
       "├── data: OffsetArrays.OffsetArray{Float64, 3, Array{Float64, 3}}, size: (1000, 500, 1)\n",
       "├── grid: RectilinearGrid{Float64, Periodic, Periodic, Flat}(Nx=1000, Ny=500, Nz=1)\n",
       "├── operand: UnaryOperation at (Face, Center, Center)\n",
       "└── status: time=0.0"
      ]
     },
     "execution_count": 6,
     "metadata": {},
     "output_type": "execute_result"
    }
   ],
   "source": [
    "s=sqrt(u^2+v^2)\n",
    "s_field=Field(s)"
   ]
  },
  {
   "cell_type": "code",
   "execution_count": 7,
   "id": "9cbe36e5",
   "metadata": {},
   "outputs": [
    {
     "data": {
      "text/plain": [
       "Simulation{typename(NonhydrostaticModel){typename(CPU), Float64}}\n",
       "├── Model clock: time = 0 seconds, iteration = 0\n",
       "├── Next time step: 20 ms\n",
       "├── Elapsed wall time: 0 seconds\n",
       "├── Stop time: 50 seconds\n",
       "├── Stop iteration : Inf\n",
       "├── Wall time limit: Inf\n",
       "├── Callbacks: typename(OrderedCollections.OrderedDict) with 4 entries:\n",
       "│   ├── stop_time_exceeded => typename(Callback)\n",
       "│   ├── stop_iteration_exceeded => typename(Callback)\n",
       "│   ├── wall_time_limit_exceeded => typename(Callback)\n",
       "│   └── nan_checker => typename(Callback)\n",
       "├── Output writers: typename(OrderedCollections.OrderedDict) with no entries\n",
       "└── Diagnostics: typename(OrderedCollections.OrderedDict) with no entries"
      ]
     },
     "execution_count": 7,
     "metadata": {},
     "output_type": "execute_result"
    }
   ],
   "source": [
    "simulation = Simulation(model, Δt=0.02, stop_time=50)"
   ]
  },
  {
   "cell_type": "code",
   "execution_count": 8,
   "id": "4503db3b",
   "metadata": {},
   "outputs": [
    {
     "data": {
      "text/plain": [
       "Callback{typeof(progress), IterationInterval}(progress, IterationInterval(100))"
      ]
     },
     "execution_count": 8,
     "metadata": {},
     "output_type": "execute_result"
    }
   ],
   "source": [
    "progress(sim) = @info \"Iteration: $(iteration(sim)), time: $(time(sim))\"\n",
    "\n",
    "simulation.callbacks[:progress] = Callback(progress, IterationInterval(100))"
   ]
  },
  {
   "cell_type": "code",
   "execution_count": 9,
   "id": "a16d0794",
   "metadata": {},
   "outputs": [
    {
     "data": {
      "text/plain": [
       "JLD2OutputWriter scheduled on TimeInterval(2 seconds):\n",
       "├── filepath: .\\two_dimensional_turbulence2.jld2\n",
       "├── 2 outputs: (:ω, :s)\n",
       "├── field slicer: FieldSlicer(:, :, :, with_halos=false)\n",
       "├── array type: Array{Float32}\n",
       "├── including: [:grid, :coriolis, :buoyancy, :closure]\n",
       "└── max filesize: Inf YiB"
      ]
     },
     "execution_count": 9,
     "metadata": {},
     "output_type": "execute_result"
    }
   ],
   "source": [
    "simulation.output_writers[:fields] = JLD2OutputWriter(model, (ω=ω_field, s=s_field),\n",
    "                                                      schedule = TimeInterval(2),\n",
    "                                                      prefix = \"two_dimensional_turbulence2\",\n",
    "                                                      force = true)"
   ]
  },
  {
   "cell_type": "code",
   "execution_count": 10,
   "id": "df99c84f",
   "metadata": {},
   "outputs": [
    {
     "name": "stderr",
     "output_type": "stream",
     "text": [
      "┌ Info: Initializing simulation...\n",
      "└ @ Oceananigans.Simulations C:\\Users\\shiva\\.julia\\packages\\Oceananigans\\KUskb\\src\\Simulations\\run.jl:168\n",
      "┌ Info: Iteration: 0, time: 0.0\n",
      "└ @ Main In[8]:1\n",
      "┌ Info:     ... simulation initialization complete (17.800 seconds)\n",
      "└ @ Oceananigans.Simulations C:\\Users\\shiva\\.julia\\packages\\Oceananigans\\KUskb\\src\\Simulations\\run.jl:190\n",
      "┌ Info: Executing initial time step...\n",
      "└ @ Oceananigans.Simulations C:\\Users\\shiva\\.julia\\packages\\Oceananigans\\KUskb\\src\\Simulations\\run.jl:113\n",
      "┌ Info:     ... initial time step complete (41.687 seconds).\n",
      "└ @ Oceananigans.Simulations C:\\Users\\shiva\\.julia\\packages\\Oceananigans\\KUskb\\src\\Simulations\\run.jl:120\n",
      "┌ Info: Iteration: 100, time: 1.9999999999999925\n",
      "└ @ Main In[8]:1\n",
      "┌ Info: Iteration: 200, time: 3.9800000000000457\n",
      "└ @ Main In[8]:1\n",
      "┌ Info: Iteration: 300, time: 5.979999999999958\n",
      "└ @ Main In[8]:1\n",
      "┌ Info: Iteration: 400, time: 7.959999999999958\n",
      "└ @ Main In[8]:1\n",
      "┌ Info: Iteration: 500, time: 9.939999999999959\n",
      "└ @ Main In[8]:1\n",
      "┌ Info: Iteration: 600, time: 11.919999999999959\n",
      "└ @ Main In[8]:1\n",
      "┌ Info: Iteration: 700, time: 13.89999999999996\n",
      "└ @ Main In[8]:1\n",
      "┌ Info: Iteration: 800, time: 15.87999999999996\n",
      "└ @ Main In[8]:1\n",
      "┌ Info: Iteration: 900, time: 17.85999999999996\n",
      "└ @ Main In[8]:1\n",
      "┌ Info: Iteration: 1000, time: 19.83999999999996\n",
      "└ @ Main In[8]:1\n",
      "┌ Info: Iteration: 1100, time: 21.81999999999996\n",
      "└ @ Main In[8]:1\n",
      "┌ Info: Iteration: 1200, time: 23.79999999999996\n",
      "└ @ Main In[8]:1\n",
      "┌ Info: Iteration: 1300, time: 25.779999999999962\n",
      "└ @ Main In[8]:1\n",
      "┌ Info: Iteration: 1400, time: 27.759999999999962\n",
      "└ @ Main In[8]:1\n",
      "┌ Info: Iteration: 1500, time: 29.739999999999963\n",
      "└ @ Main In[8]:1\n",
      "┌ Info: Iteration: 1600, time: 31.719999999999963\n",
      "└ @ Main In[8]:1\n",
      "┌ Info: Iteration: 1700, time: 33.700000000000266\n",
      "└ @ Main In[8]:1\n",
      "┌ Info: Iteration: 1800, time: 35.700000000000266\n",
      "└ @ Main In[8]:1\n",
      "┌ Info: Iteration: 1900, time: 37.700000000000266\n",
      "└ @ Main In[8]:1\n",
      "┌ Info: Iteration: 2000, time: 39.700000000000266\n",
      "└ @ Main In[8]:1\n",
      "┌ Info: Iteration: 2100, time: 41.700000000000266\n",
      "└ @ Main In[8]:1\n",
      "┌ Info: Iteration: 2200, time: 43.700000000000266\n",
      "└ @ Main In[8]:1\n",
      "┌ Info: Iteration: 2300, time: 45.700000000000266\n",
      "└ @ Main In[8]:1\n",
      "┌ Info: Iteration: 2400, time: 47.700000000000266\n",
      "└ @ Main In[8]:1\n",
      "┌ Info: Iteration: 2500, time: 49.700000000000266\n",
      "└ @ Main In[8]:1\n",
      "┌ Info: Simulation is stopping. Model time 50 seconds has hit or exceeded simulation stop time 50 seconds.\n",
      "└ @ Oceananigans.Simulations C:\\Users\\shiva\\.julia\\packages\\Oceananigans\\KUskb\\src\\Simulations\\simulation.jl:164\n"
     ]
    }
   ],
   "source": [
    "run!(simulation)"
   ]
  },
  {
   "cell_type": "code",
   "execution_count": 11,
   "id": "c48f01bb",
   "metadata": {},
   "outputs": [
    {
     "data": {
      "text/plain": [
       "26-element Vector{Int64}:\n",
       "    0\n",
       "  101\n",
       "  201\n",
       "  302\n",
       "  403\n",
       "  504\n",
       "  605\n",
       "  706\n",
       "  807\n",
       "  908\n",
       " 1009\n",
       " 1110\n",
       " 1211\n",
       " 1312\n",
       " 1413\n",
       " 1514\n",
       " 1615\n",
       " 1715\n",
       " 1815\n",
       " 1915\n",
       " 2015\n",
       " 2115\n",
       " 2215\n",
       " 2315\n",
       " 2415\n",
       " 2515"
      ]
     },
     "execution_count": 11,
     "metadata": {},
     "output_type": "execute_result"
    }
   ],
   "source": [
    "using JLD2\n",
    "\n",
    "file=jldopen(simulation.output_writers[:fields].filepath)\n",
    "iterations = parse.(Int,keys(file[\"timeseries/t\"]))"
   ]
  },
  {
   "cell_type": "code",
   "execution_count": 12,
   "id": "01824ff7",
   "metadata": {
    "scrolled": true
   },
   "outputs": [
    {
     "data": {
      "text/plain": [
       "([4.142623226210386e-20, 0.006283185307179587, 0.012566370614359173, 0.01884955592153876, 0.025132741228718346, 0.031415926535897934, 0.03769911184307752, 0.0439822971502571, 0.05026548245743669, 0.05654866776461628  …  6.220353454107791, 6.22663663941497, 6.23291982472215, 6.239203010029329, 6.245486195336508, 6.2517693806436885, 6.258052565950868, 6.264335751258048, 6.270618936565227, 6.276902121872407], [0.006283185307179582, 0.018849555921538756, 0.03141592653589793, 0.0439822971502571, 0.05654866776461627, 0.06911503837897544, 0.08168140899333462, 0.09424777960769379, 0.10681415022205296, 0.11938052083641214  …  6.1638047863431735, 6.176371156957533, 6.188937527571892, 6.201503898186251, 6.214070268800611, 6.22663663941497, 6.239203010029329, 6.2517693806436885, 6.264335751258047, 6.276902121872406], StepRangeLen(1.0, 0.0, 1))"
      ]
     },
     "execution_count": 12,
     "metadata": {},
     "output_type": "execute_result"
    }
   ],
   "source": [
    "xω, yω, zω = nodes(ω_field)\n",
    "xs, ys, zs = nodes(s_field)"
   ]
  },
  {
   "cell_type": "code",
   "execution_count": 13,
   "id": "46b57b80",
   "metadata": {
    "scrolled": true
   },
   "outputs": [
    {
     "name": "stderr",
     "output_type": "stream",
     "text": [
      "WARNING: using Plots.grid in module Main conflicts with an existing identifier.\n",
      "┌ Info: Making a neat movie of vorticity and speed...\n",
      "└ @ Main In[13]:3\n",
      "┌ Info: Plotting frame 1 from iteration 0...\n",
      "└ @ Main In[13]:7\n",
      "┌ Info: Plotting frame 2 from iteration 101...\n",
      "└ @ Main In[13]:7\n",
      "┌ Info: Plotting frame 3 from iteration 201...\n",
      "└ @ Main In[13]:7\n",
      "┌ Info: Plotting frame 4 from iteration 302...\n",
      "└ @ Main In[13]:7\n",
      "┌ Info: Plotting frame 5 from iteration 403...\n",
      "└ @ Main In[13]:7\n",
      "┌ Info: Plotting frame 6 from iteration 504...\n",
      "└ @ Main In[13]:7\n",
      "┌ Info: Plotting frame 7 from iteration 605...\n",
      "└ @ Main In[13]:7\n",
      "┌ Info: Plotting frame 8 from iteration 706...\n",
      "└ @ Main In[13]:7\n",
      "┌ Info: Plotting frame 9 from iteration 807...\n",
      "└ @ Main In[13]:7\n",
      "┌ Info: Plotting frame 10 from iteration 908...\n",
      "└ @ Main In[13]:7\n",
      "┌ Info: Plotting frame 11 from iteration 1009...\n",
      "└ @ Main In[13]:7\n",
      "┌ Info: Plotting frame 12 from iteration 1110...\n",
      "└ @ Main In[13]:7\n",
      "┌ Info: Plotting frame 13 from iteration 1211...\n",
      "└ @ Main In[13]:7\n",
      "┌ Info: Plotting frame 14 from iteration 1312...\n",
      "└ @ Main In[13]:7\n",
      "┌ Info: Plotting frame 15 from iteration 1413...\n",
      "└ @ Main In[13]:7\n",
      "┌ Info: Plotting frame 16 from iteration 1514...\n",
      "└ @ Main In[13]:7\n",
      "┌ Info: Plotting frame 17 from iteration 1615...\n",
      "└ @ Main In[13]:7\n",
      "┌ Info: Plotting frame 18 from iteration 1715...\n",
      "└ @ Main In[13]:7\n",
      "┌ Info: Plotting frame 19 from iteration 1815...\n",
      "└ @ Main In[13]:7\n",
      "┌ Info: Plotting frame 20 from iteration 1915...\n",
      "└ @ Main In[13]:7\n",
      "┌ Info: Plotting frame 21 from iteration 2015...\n",
      "└ @ Main In[13]:7\n",
      "┌ Info: Plotting frame 22 from iteration 2115...\n",
      "└ @ Main In[13]:7\n",
      "┌ Info: Plotting frame 23 from iteration 2215...\n",
      "└ @ Main In[13]:7\n",
      "┌ Info: Plotting frame 24 from iteration 2315...\n",
      "└ @ Main In[13]:7\n",
      "┌ Info: Plotting frame 25 from iteration 2415...\n",
      "└ @ Main In[13]:7\n",
      "┌ Info: Plotting frame 26 from iteration 2515...\n",
      "└ @ Main In[13]:7\n"
     ]
    },
    {
     "data": {
      "text/plain": [
       "Animation(\"C:\\\\Users\\\\shiva\\\\AppData\\\\Local\\\\Temp\\\\jl_MFyKFz\", [\"000001.png\", \"000002.png\", \"000003.png\", \"000004.png\", \"000005.png\", \"000006.png\", \"000007.png\", \"000008.png\", \"000009.png\", \"000010.png\"  …  \"000017.png\", \"000018.png\", \"000019.png\", \"000020.png\", \"000021.png\", \"000022.png\", \"000023.png\", \"000024.png\", \"000025.png\", \"000026.png\"])"
      ]
     },
     "execution_count": 13,
     "metadata": {},
     "output_type": "execute_result"
    }
   ],
   "source": [
    "using Plots\n",
    "\n",
    "@info \"Making a neat movie of vorticity and speed...\"\n",
    "\n",
    "anim = @animate for (i, iteration) in enumerate(iterations)\n",
    "\n",
    "    @info \"Plotting frame $i from iteration $iteration...\"\n",
    "\n",
    "    t = file[\"timeseries/t/$iteration\"]\n",
    "    ω_snapshot = file[\"timeseries/ω/$iteration\"][:, :, 1]\n",
    "    s_snapshot = file[\"timeseries/s/$iteration\"][:, :, 1]\n",
    "\n",
    "    ω_lim = 2.0\n",
    "    ω_levels = range(-ω_lim, stop=ω_lim, length=20)\n",
    "\n",
    "    s_lim = 0.2\n",
    "    s_levels = range(0, stop=s_lim, length=20)\n",
    "\n",
    "    kwargs = (xlabel=\"x\", ylabel=\"y\", aspectratio=1, linewidth=0, colorbar=true,\n",
    "              xlims=(0, model.grid.Lx), ylims=(0, model.grid.Ly))\n",
    "\n",
    "    ω_plot = contourf(xω, yω, clamp.(ω_snapshot', -ω_lim, ω_lim);\n",
    "                       color = :balance,\n",
    "                      levels = ω_levels,\n",
    "                       clims = (-ω_lim, ω_lim),\n",
    "                      kwargs...)\n",
    "\n",
    "    s_plot = contourf(xs, ys, clamp.(s_snapshot', 0, s_lim);\n",
    "                       color = :thermal,\n",
    "                      levels = s_levels,\n",
    "                       clims = (0., s_lim),\n",
    "                      kwargs...)\n",
    "\n",
    "    plot(ω_plot, s_plot, title=[\"Vorticity\" \"Speed\"], layout=(1, 2), size=(1200, 500))\n",
    "end"
   ]
  },
  {
   "cell_type": "code",
   "execution_count": 3,
   "id": "4033838e",
   "metadata": {},
   "outputs": [
    {
     "ename": "LoadError",
     "evalue": "UndefVarError: gif not defined",
     "output_type": "error",
     "traceback": [
      "UndefVarError: gif not defined",
      "",
      "Stacktrace:",
      " [1] top-level scope",
      "   @ In[3]:1",
      " [2] eval",
      "   @ .\\boot.jl:373 [inlined]",
      " [3] include_string(mapexpr::typeof(REPL.softscope), mod::Module, code::String, filename::String)",
      "   @ Base .\\loading.jl:1196"
     ]
    }
   ],
   "source": [
    "gif(anim, \"anim_2_mue=1fps15.gif\", fps = 2)"
   ]
  }
 ],
 "metadata": {
  "kernelspec": {
   "display_name": "Julia 1.7.0",
   "language": "julia",
   "name": "julia-1.7"
  },
  "language_info": {
   "file_extension": ".jl",
   "mimetype": "application/julia",
   "name": "julia",
   "version": "1.7.0"
  }
 },
 "nbformat": 4,
 "nbformat_minor": 5
}
